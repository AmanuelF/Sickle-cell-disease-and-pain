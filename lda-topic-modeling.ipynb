{
 "cells": [
  {
   "cell_type": "code",
   "execution_count": 148,
   "metadata": {},
   "outputs": [],
   "source": [
    "import pandas as pd\n",
    "import pyLDAvis.gensim\n",
    "\n",
    "from matplotlib.pyplot import *\n",
    "import matplotlib\n",
    "import matplotlib.pyplot as plt\n",
    "\n",
    "#from scipy.interpolate import spline\n",
    "import numpy as np\n",
    "from gensim.models.coherencemodel import CoherenceModel\n",
    "import gensim.models.ldamodel\n",
    "import gensim\n",
    "from gensim.utils import lemmatize\n",
    "from nltk.corpus import stopwords\n",
    "import re\n",
    "from gensim.corpora import Dictionary\n",
    "\n",
    "from pprint import pprint\n",
    "\n",
    "import pyLDAvis.gensim\n",
    "import gensim\n",
    "from gensim import corpora\n",
    "from gensim.models import LdaModel\n",
    "\n",
    "from nltk.corpus import stopwords\n",
    "from nltk.stem.wordnet import WordNetLemmatizer\n",
    "import string\n",
    "import gensim\n",
    "from gensim import corpora\n",
    "\n",
    "import warnings\n",
    "warnings.filterwarnings('ignore')"
   ]
  },
  {
   "cell_type": "markdown",
   "metadata": {},
   "source": [
    "# Data Preprocessing"
   ]
  },
  {
   "cell_type": "code",
   "execution_count": 149,
   "metadata": {},
   "outputs": [],
   "source": [
    "def lemmatize(text):\n",
    "    return (WordNetLemmatizer().lemmatize(text, pos='v'))\n",
    "\n",
    "def preprocess(text):\n",
    "    result = []\n",
    "    for token in gensim.utils.simple_preprocess(text):\n",
    "        if token not in gensim.parsing.preprocessing.STOPWORDS and len(token) > 3:\n",
    "            result.append(lemmatize(token))\n",
    "    return result\n",
    "\n"
   ]
  },
  {
   "cell_type": "markdown",
   "metadata": {},
   "source": [
    "# Generate different lda models to evaluate their coherence scores"
   ]
  },
  {
   "cell_type": "code",
   "execution_count": null,
   "metadata": {},
   "outputs": [],
   "source": [
    "def compute_coherence_values(dictionary, corpus, texts, limit, start=2, step=6):\n",
    "    coherence_values = []\n",
    "    model_list = []\n",
    "    for num_topics in range(start, limit, step):\n",
    "        model = gensim.models.LdaModel(corpus=corpus, num_topics=num_topics, id2word=dictionary)\n",
    "        model_list.append(model)\n",
    "        coherencemodel = CoherenceModel(model=model, texts=texts, dictionary=dictionary, coherence='c_v')\n",
    "        coherence_values.append(coherencemodel.get_coherence())\n",
    "\n",
    "    return model_list, coherence_values"
   ]
  },
  {
   "cell_type": "code",
   "execution_count": 130,
   "metadata": {},
   "outputs": [],
   "source": [
    "df = pd.read_excel('../patient_data1.xlsx')\n",
    "\n",
    "df = df.rename(columns={\"Pain Increase, Decrease, No Change\": 'change', 'Relevant to Pain':'relevance', 'Raw Text': 'text'})"
   ]
  },
  {
   "cell_type": "code",
   "execution_count": 131,
   "metadata": {},
   "outputs": [
    {
     "data": {
      "text/html": [
       "<div>\n",
       "<style scoped>\n",
       "    .dataframe tbody tr th:only-of-type {\n",
       "        vertical-align: middle;\n",
       "    }\n",
       "\n",
       "    .dataframe tbody tr th {\n",
       "        vertical-align: top;\n",
       "    }\n",
       "\n",
       "    .dataframe thead th {\n",
       "        text-align: right;\n",
       "    }\n",
       "</style>\n",
       "<table border=\"1\" class=\"dataframe\">\n",
       "  <thead>\n",
       "    <tr style=\"text-align: right;\">\n",
       "      <th></th>\n",
       "      <th>relevance</th>\n",
       "      <th>change</th>\n",
       "      <th>text</th>\n",
       "    </tr>\n",
       "  </thead>\n",
       "  <tbody>\n",
       "    <tr>\n",
       "      <th>0</th>\n",
       "      <td>yes</td>\n",
       "      <td>increase</td>\n",
       "      <td>Patient. Arrived to VDH for pain management an...</td>\n",
       "    </tr>\n",
       "    <tr>\n",
       "      <th>1</th>\n",
       "      <td>yes</td>\n",
       "      <td>not sure</td>\n",
       "      <td>Patient will continue on pain control regimen ...</td>\n",
       "    </tr>\n",
       "    <tr>\n",
       "      <th>2</th>\n",
       "      <td>yes</td>\n",
       "      <td>not sure</td>\n",
       "      <td>Patient will continue to take pain medications...</td>\n",
       "    </tr>\n",
       "    <tr>\n",
       "      <th>3</th>\n",
       "      <td>no</td>\n",
       "      <td>NaN</td>\n",
       "      <td>Patient received from CHC via wheelchair on ro...</td>\n",
       "    </tr>\n",
       "    <tr>\n",
       "      <th>4</th>\n",
       "      <td>yes</td>\n",
       "      <td>increase</td>\n",
       "      <td>Patient remains in 8-10/10 pain. PCA initiated.</td>\n",
       "    </tr>\n",
       "  </tbody>\n",
       "</table>\n",
       "</div>"
      ],
      "text/plain": [
       "  relevance    change                                               text\n",
       "0       yes  increase  Patient. Arrived to VDH for pain management an...\n",
       "1       yes  not sure  Patient will continue on pain control regimen ...\n",
       "2       yes  not sure  Patient will continue to take pain medications...\n",
       "3        no       NaN  Patient received from CHC via wheelchair on ro...\n",
       "4       yes  increase   Patient remains in 8-10/10 pain. PCA initiated. "
      ]
     },
     "execution_count": 131,
     "metadata": {},
     "output_type": "execute_result"
    }
   ],
   "source": [
    "df.head()"
   ]
  },
  {
   "cell_type": "code",
   "execution_count": 115,
   "metadata": {},
   "outputs": [],
   "source": [
    "doc_complete = df['text'].values.tolist()\n",
    "doc_clean = [preprocess(str(doc)) for doc in doc_complete]"
   ]
  },
  {
   "cell_type": "code",
   "execution_count": 119,
   "metadata": {},
   "outputs": [],
   "source": [
    "#pprint(doc_clean[:1])"
   ]
  },
  {
   "cell_type": "code",
   "execution_count": 118,
   "metadata": {},
   "outputs": [],
   "source": [
    "dictionary = corpora.Dictionary(doc_clean)\n",
    "corpus = [dictionary.doc2bow(doc) for doc in doc_clean]"
   ]
  },
  {
   "cell_type": "code",
   "execution_count": 121,
   "metadata": {},
   "outputs": [],
   "source": [
    "model_list, coherence_values = compute_coherence_values(dictionary=dictionary, corpus=corpus, texts=doc_clean, start=2, limit=30, step=6)"
   ]
  },
  {
   "cell_type": "code",
   "execution_count": 122,
   "metadata": {},
   "outputs": [
    {
     "data": {
      "image/png": "[encoded data removed]",
      "text/plain": [
       "<Figure size 432x288 with 1 Axes>"
      ]
     },
     "metadata": {
      "needs_background": "light"
     },
     "output_type": "display_data"
    }
   ],
   "source": [
    "# Show graph\n",
    "limit=30; start=2; step=6;\n",
    "x = range(start, limit, step)\n",
    "plt.plot(x, coherence_values)\n",
    "plt.xlabel(\"Number of Topics\")\n",
    "plt.ylabel(\"Coherence score\")\n",
    "plt.legend((\"coherence_values\"), loc='best')\n",
    "plt.show()"
   ]
  },
  {
   "cell_type": "code",
   "execution_count": 123,
   "metadata": {},
   "outputs": [
    {
     "name": "stdout",
     "output_type": "stream",
     "text": [
      "[(0,\n",
      "  '0.116*\"pain\" + 0.100*\"goal\" + 0.081*\"progress\" + 0.075*\"outcome\" + '\n",
      "  '0.067*\"ability\" + 0.051*\"improve\" + 0.036*\"problem\" + 0.030*\"patient\" + '\n",
      "  '0.027*\"level\" + 0.026*\"manage\"'),\n",
      " (1,\n",
      "  '0.108*\"pain\" + 0.085*\"outcome\" + 0.071*\"patient\" + 0.065*\"progress\" + '\n",
      "  '0.057*\"goal\" + 0.044*\"ability\" + 0.041*\"improve\" + 0.028*\"decrease\" + '\n",
      "  '0.026*\"problem\" + 0.019*\"level\"')]\n"
     ]
    }
   ],
   "source": [
    "# Select the model and print the topics\n",
    "optimal_model = model_list[0]\n",
    "model_topics = optimal_model.show_topics(formatted=False)\n",
    "pprint(optimal_model.print_topics(num_words=10))\n",
    "\n",
    "belong = optimal_model.print_topics(num_words=10)"
   ]
  },
  {
   "cell_type": "code",
   "execution_count": 110,
   "metadata": {},
   "outputs": [
    {
     "data": {
      "text/html": [
       "\n",
       "<link rel=\"stylesheet\" type=\"text/css\" href=\"https://cdn.rawgit.com/bmabey/pyLDAvis/files/ldavis.v1.0.0.css\">\n",
       "\n",
       "\n",
       "<div id=\"ldavis_el301461396389993410007079642976\"></div>\n",
       "<script type=\"text/javascript\">\n",
       "\n",
       "var ldavis_el301461396389993410007079642976_data = {\"mdsDat\": {\"x\": [0.031076349318027496, -0.031076349318027496], \"y\": [0.0, 0.0], \"topics\": [1, 2], \"cluster\": [1, 1], \"Freq\": [74.19876098632812, 25.801240921020508]}, \"tinfo\": {\"Category\": [\"Default\", \"Default\", \"Default\", \"Default\", \"Default\", \"Default\", \"Default\", \"Default\", \"Default\", \"Default\", \"Default\", \"Default\", \"Default\", \"Default\", \"Default\", \"Default\", \"Default\", \"Default\", \"Default\", \"Default\", \"Default\", \"Default\", \"Default\", \"Default\", \"Default\", \"Default\", \"Default\", \"Default\", \"Default\", \"Default\", \"Topic1\", \"Topic1\", \"Topic1\", \"Topic1\", \"Topic1\", \"Topic1\", \"Topic1\", \"Topic1\", \"Topic1\", \"Topic1\", \"Topic1\", \"Topic1\", \"Topic1\", \"Topic1\", \"Topic1\", \"Topic1\", \"Topic1\", \"Topic1\", \"Topic1\", \"Topic1\", \"Topic1\", \"Topic1\", \"Topic1\", \"Topic1\", \"Topic1\", \"Topic1\", \"Topic1\", \"Topic1\", \"Topic1\", \"Topic1\", \"Topic1\", \"Topic1\", \"Topic1\", \"Topic1\", \"Topic1\", \"Topic1\", \"Topic1\", \"Topic1\", \"Topic1\", \"Topic1\", \"Topic1\", \"Topic1\", \"Topic1\", \"Topic1\", \"Topic1\", \"Topic1\", \"Topic2\", \"Topic2\", \"Topic2\", \"Topic2\", \"Topic2\", \"Topic2\", \"Topic2\", \"Topic2\", \"Topic2\", \"Topic2\", \"Topic2\", \"Topic2\", \"Topic2\", \"Topic2\", \"Topic2\", \"Topic2\", \"Topic2\", \"Topic2\", \"Topic2\", \"Topic2\", \"Topic2\", \"Topic2\", \"Topic2\", \"Topic2\", \"Topic2\", \"Topic2\", \"Topic2\", \"Topic2\", \"Topic2\", \"Topic2\", \"Topic2\", \"Topic2\", \"Topic2\", \"Topic2\", \"Topic2\", \"Topic2\", \"Topic2\", \"Topic2\", \"Topic2\", \"Topic2\", \"Topic2\", \"Topic2\", \"Topic2\", \"Topic2\", \"Topic2\", \"Topic2\", \"Topic2\", \"Topic2\", \"Topic2\", \"Topic2\", \"Topic2\", \"Topic2\", \"Topic2\", \"Topic2\", \"Topic2\", \"Topic2\", \"Topic2\", \"Topic2\", \"Topic2\", \"Topic2\", \"Topic2\", \"Topic2\", \"Topic2\", \"Topic2\", \"Topic2\", \"Topic2\", \"Topic2\", \"Topic2\"], \"Freq\": [1109.0, 210.0, 322.0, 432.0, 241.0, 843.0, 58.0, 208.0, 56.0, 205.0, 749.0, 57.0, 251.0, 212.0, 588.0, 778.0, 200.0, 24.0, 19.0, 83.0, 114.0, 14.0, 17.0, 18.0, 11.0, 14.0, 14.0, 13.0, 13.0, 11.0, 82.97687530517578, 48.66242980957031, 57.35446548461914, 46.4227294921875, 79.06971740722656, 48.135040283203125, 45.7750358581543, 46.74388885498047, 47.168846130371094, 54.969051361083984, 5.9792094230651855, 54.519901275634766, 159.1228790283203, 98.30818176269531, 64.03005981445312, 406.46514892578125, 5.010613441467285, 9.935709953308105, 48.794979095458984, 3.306375026702881, 3.2799971103668213, 104.06393432617188, 5.723970413208008, 3.2610206604003906, 3.2409827709198, 3.2299811840057373, 647.3505249023438, 3.2231674194335938, 136.8148651123047, 3.2173826694488525, 613.3927612304688, 482.23199462890625, 683.0077514648438, 327.6030578613281, 152.90142822265625, 189.7584686279297, 159.44876098632812, 233.97714233398438, 86.31768798828125, 149.32852172851562, 717.3433227539062, 169.65423583984375, 146.76271057128906, 129.01913452148438, 59.126277923583984, 49.3027229309082, 3.1802423000335693, 3.15930438041687, 5.49871301651001, 3.070039749145508, 3.06646728515625, 6.839483737945557, 9.060601234436035, 2.249830722808838, 5.995115280151367, 2.2448434829711914, 2.235704183578491, 2.2356672286987305, 2.205580234527588, 10.778841972351074, 2.1423330307006836, 4.256277084350586, 2.1098053455352783, 2.092074155807495, 4.170406818389893, 1.371036171913147, 1.3687604665756226, 1.3622854948043823, 1.3564529418945312, 2.0327560901641846, 1.3516435623168945, 2.0247273445129395, 2.0227930545806885, 1.3384087085723877, 2.6731534004211426, 2.6706976890563965, 17.124324798583984, 7.951815128326416, 4.001964092254639, 13.367865562438965, 3.9590556621551514, 8.928135871887207, 9.316901206970215, 35.41575622558594, 8.69350814819336, 9.16562271118164, 32.03459930419922, 10.913427352905273, 392.05810546875, 28.980167388916016, 81.68092346191406, 10.744575500488281, 72.01721954345703, 88.0816421508789, 7.869794845581055, 61.2515754699707, 105.16630554199219, 160.1023406982422, 56.06574630737305, 136.09286499023438, 61.38112258911133, 130.8802490234375, 52.992523193359375, 106.33293914794922, 48.07611846923828, 24.659305572509766, 64.09184265136719, 28.59942626953125, 28.123353958129883, 22.8016414642334, 19.25987434387207, 15.437783241271973, 14.520221710205078, 10.87170696258545], \"Term\": [\"pain\", \"alter\", \"problem\", \"patient\", \"level\", \"goal\", \"satisfy\", \"plan\", \"intervention\", \"develop\", \"progress\", \"emar\", \"decrease\", \"manage\", \"ability\", \"outcome\", \"control\", \"dose\", \"demand\", \"continue\", \"medication\", \"give\", \"button\", \"rat\", \"note\", \"toradol\", \"time\", \"encourage\", \"admission\", \"push\", \"support\", \"comfort\", \"methods\", \"identify\", \"cope\", \"expressions\", \"factor\", \"alteration\", \"have\", \"carry\", \"potential\", \"deficit\", \"regimen\", \"knowledge\", \"state\", \"improve\", \"fall\", \"date\", \"comfortable\", \"drowsy\", \"reinforce\", \"satisfaction\", \"night\", \"quiet\", \"patch\", \"add\", \"outcome\", \"easily\", \"management\", \"arousable\", \"progress\", \"ability\", \"goal\", \"patient\", \"control\", \"decrease\", \"manage\", \"problem\", \"medication\", \"develop\", \"pain\", \"level\", \"plan\", \"alter\", \"continue\", \"increase\", \"lockout\", \"discuss\", \"awake\", \"morphine\", \"follow\", \"continuous\", \"note\", \"hour\", \"consistently\", \"cry\", \"hours\", \"reach\", \"limit\", \"give\", \"overnight\", \"room\", \"dilaudid\", \"contin\", \"home\", \"presently\", \"doritos\", \"deliveries\", \"ptis\", \"range\", \"behavioral\", \"parent\", \"play\", \"longer\", \"monitor\", \"difficulty\", \"dose\", \"push\", \"complain\", \"demand\", \"receive\", \"encourage\", \"toradol\", \"satisfy\", \"admission\", \"time\", \"intervention\", \"button\", \"pain\", \"emar\", \"alter\", \"rat\", \"level\", \"problem\", \"discharge\", \"plan\", \"patient\", \"goal\", \"develop\", \"progress\", \"decrease\", \"outcome\", \"manage\", \"ability\", \"control\", \"continue\", \"improve\", \"medication\", \"management\", \"regimen\", \"satisfaction\", \"increase\", \"knowledge\", \"shift\"], \"Total\": [1109.0, 210.0, 322.0, 432.0, 241.0, 843.0, 58.0, 208.0, 56.0, 205.0, 749.0, 57.0, 251.0, 212.0, 588.0, 778.0, 200.0, 24.0, 19.0, 83.0, 114.0, 14.0, 17.0, 18.0, 11.0, 14.0, 14.0, 13.0, 13.0, 11.0, 87.00053405761719, 51.76633071899414, 61.505523681640625, 49.78969955444336, 84.92737579345703, 51.73577117919922, 49.75139617919922, 51.65554428100586, 52.604087829589844, 61.36639404296875, 6.81139612197876, 62.265411376953125, 181.9245147705078, 112.82839965820312, 73.90216064453125, 470.5570068359375, 5.831862926483154, 11.658548355102539, 57.318115234375, 3.885955333709717, 3.8844447135925293, 123.32380676269531, 6.796799659729004, 3.8833675384521484, 3.882239818572998, 3.8815431594848633, 778.2307739257812, 3.881188154220581, 164.93821716308594, 3.880844831466675, 749.485595703125, 588.56494140625, 843.110107421875, 432.76934814453125, 200.9775390625, 251.13958740234375, 212.4412841796875, 322.05877685546875, 114.9171142578125, 205.39427185058594, 1109.4013671875, 241.67144775390625, 208.0142822265625, 210.70005798339844, 83.78558349609375, 64.74050903320312, 3.72822642326355, 3.7294554710388184, 6.528292179107666, 3.734924793243408, 3.735093355178833, 8.407638549804688, 11.213550567626953, 2.804373025894165, 7.478584289550781, 2.804706573486328, 2.8052456378936768, 2.805229902267456, 2.807067394256592, 14.050098419189453, 2.810905694961548, 5.623386859893799, 2.8128857612609863, 2.8139586448669434, 5.628593444824219, 1.8774402141571045, 1.8775672912597656, 1.8779559135437012, 1.8783162832260132, 2.817537307739258, 1.8785977363586426, 2.817997455596924, 2.8181684017181396, 1.8793962001800537, 3.7589824199676514, 3.7590737342834473, 24.44809913635254, 11.280965805053711, 5.638883113861084, 19.774892807006836, 5.641440391540527, 13.182144165039062, 14.138758659362793, 58.62788772583008, 13.196208953857422, 14.14796257019043, 56.87285232543945, 17.96303367614746, 1109.4013671875, 57.05693817138672, 210.70005798339844, 18.953529357910156, 241.67144775390625, 322.05877685546875, 14.226534843444824, 208.0142822265625, 432.76934814453125, 843.110107421875, 205.39427185058594, 749.485595703125, 251.13958740234375, 778.2307739257812, 212.4412841796875, 588.56494140625, 200.9775390625, 83.78558349609375, 470.5570068359375, 114.9171142578125, 164.93821716308594, 181.9245147705078, 123.32380676269531, 64.74050903320312, 112.82839965820312, 29.728607177734375], \"loglift\": [30.0, 29.0, 28.0, 27.0, 26.0, 25.0, 24.0, 23.0, 22.0, 21.0, 20.0, 19.0, 18.0, 17.0, 16.0, 15.0, 14.0, 13.0, 12.0, 11.0, 10.0, 9.0, 8.0, 7.0, 6.0, 5.0, 4.0, 3.0, 2.0, 1.0, 0.25110000371932983, 0.23659999668598175, 0.22849999368190765, 0.22840000689029694, 0.22699999809265137, 0.22630000114440918, 0.2151000052690506, 0.19850000739097595, 0.18940000236034393, 0.1882999986410141, 0.1680999994277954, 0.1656000018119812, 0.16449999809265137, 0.1606999933719635, 0.1550000011920929, 0.15199999511241913, 0.14659999310970306, 0.13850000500679016, 0.13740000128746033, 0.13689999282360077, 0.12929999828338623, 0.12860000133514404, 0.1265999972820282, 0.12380000203847885, 0.11789999902248383, 0.11469999700784683, 0.11429999768733978, 0.11259999871253967, 0.11150000244379044, 0.11089999973773956, 0.09799999743700027, 0.09920000284910202, 0.08780000358819962, 0.019999999552965164, 0.02500000037252903, 0.018200000748038292, 0.011500000022351742, -0.0210999995470047, 0.012199999764561653, -0.020400000736117363, -0.13760000467300415, -0.055399999022483826, -0.05040000006556511, -0.19210000336170197, -0.050200000405311584, 0.026000000536441803, 1.1957999467849731, 1.1887999773025513, 1.1830999851226807, 1.1586999893188477, 1.1575000286102295, 1.148300051689148, 1.1416000127792358, 1.1344000101089478, 1.1335999965667725, 1.132099986076355, 1.1277999877929688, 1.1277999877929688, 1.1136000156402588, 1.0896999835968018, 1.0830999612808228, 1.076200008392334, 1.0671000480651855, 1.0583000183105469, 1.054900050163269, 1.0404000282287598, 1.038699984550476, 1.0336999893188477, 1.0291999578475952, 1.0283000469207764, 1.0255000591278076, 1.0241999626159668, 1.0231000185012817, 1.0153000354766846, 1.0139000415802002, 1.0128999948501587, 0.9987000226974487, 1.0049999952316284, 1.0118000507354736, 0.9631999731063843, 1.000599980354309, 0.9650999903678894, 0.9376999735832214, 0.8507000207901001, 0.9373999834060669, 0.9205999970436096, 0.7807000279426575, 0.8564000129699707, 0.31459999084472656, 0.677299976348877, 0.40709999203681946, 0.7871999740600586, 0.14409999549388885, 0.05829999968409538, 0.7627000212669373, 0.13210000097751617, -0.05990000069141388, -0.30649998784065247, 0.056299999356269836, -0.3513000011444092, -0.05420000106096268, -0.42800000309944153, -0.033799998462200165, -0.3564000129699707, -0.07569999992847443, 0.1316000074148178, -0.6388999819755554, -0.03610000014305115, -0.4142000079154968, -0.722000002861023, -0.5019999742507935, -0.07880000025033951, -0.6955999732017517, 0.34880000352859497], \"logprob\": [30.0, 29.0, 28.0, 27.0, 26.0, 25.0, 24.0, 23.0, 22.0, 21.0, 20.0, 19.0, 18.0, 17.0, 16.0, 15.0, 14.0, 13.0, 12.0, 11.0, 10.0, 9.0, 8.0, 7.0, 6.0, 5.0, 4.0, 3.0, 2.0, 1.0, -4.479300022125244, -5.012899875640869, -4.848599910736084, -5.059999942779541, -4.527500152587891, -5.023799896240234, -5.074100017547607, -5.053100109100342, -5.044099807739258, -4.890999794006348, -7.109499931335449, -4.8993000984191895, -3.8280999660491943, -4.309700012207031, -4.738500118255615, -2.8903000354766846, -7.286300182342529, -6.6016998291015625, -5.010200023651123, -7.702000141143799, -7.710000038146973, -4.252799987792969, -7.153200149536133, -7.715799808502197, -7.72189998626709, -7.725299835205078, -2.4249000549316406, -7.727499961853027, -3.9791998863220215, -7.729300022125244, -2.478800058364868, -2.719399929046631, -2.371299982070923, -3.1059999465942383, -3.868000030517578, -3.652100086212158, -3.8261001110076904, -3.4426000118255615, -4.439799785614014, -3.891700029373169, -2.3222999572753906, -3.7641000747680664, -3.9089999198913574, -4.037899971008301, -4.8180999755859375, -4.999800205230713, -6.684500217437744, -6.691100120544434, -6.13700008392334, -6.719799995422363, -6.7210001945495605, -5.918799877166748, -5.637599945068359, -7.030600070953369, -6.05049991607666, -7.032899856567383, -7.036900043487549, -7.0370001792907715, -7.05049991607666, -5.463900089263916, -7.079599857330322, -6.393099784851074, -7.094900131225586, -7.103300094604492, -6.41349983215332, -7.525899887084961, -7.527599811553955, -7.532299995422363, -7.536600112915039, -7.1321001052856445, -7.540200233459473, -7.136099815368652, -7.13700008392334, -7.550000190734863, -6.8582000732421875, -6.8592000007629395, -5.000999927520752, -5.768099784851074, -6.454699993133545, -5.248600006103516, -6.4654998779296875, -5.652299880981445, -5.6097002029418945, -4.2743000984191895, -5.678899765014648, -5.625999927520752, -4.37470006942749, -5.451499938964844, -1.8701000213623047, -4.474899768829346, -3.438699960708618, -5.467100143432617, -3.5645999908447266, -3.3631999492645264, -5.778500080108643, -3.7265000343322754, -3.186000108718872, -2.765700101852417, -3.815000057220459, -2.9282000064849854, -3.724400043487549, -2.9672000408172607, -3.871299982070923, -3.1749000549316406, -3.9686999320983887, -4.636300086975098, -3.6812000274658203, -4.488100051879883, -4.504899978637695, -4.714700222015381, -4.883500099182129, -5.104700088500977, -5.165999889373779, -5.4552998542785645]}, \"token.table\": {\"Topic\": [1, 2, 1, 2, 1, 2, 1, 2, 1, 2, 1, 2, 1, 2, 1, 2, 1, 2, 1, 2, 1, 2, 1, 2, 1, 2, 1, 2, 1, 2, 1, 2, 1, 2, 1, 2, 1, 2, 1, 2, 1, 2, 1, 2, 1, 2, 1, 2, 1, 2, 1, 2, 1, 2, 1, 2, 1, 2, 1, 2, 1, 2, 1, 2, 1, 2, 1, 2, 1, 2, 1, 2, 1, 2, 1, 2, 1, 2, 1, 2, 1, 2, 1, 2, 1, 2, 1, 2, 1, 2, 1, 2, 1, 2, 1, 2, 1, 2, 1, 2, 1, 2, 1, 2, 1, 2, 1, 2, 1, 2, 1, 2, 1, 2, 1, 2, 1, 2, 1, 2, 1, 2, 1, 2, 1, 2, 1, 2, 1, 2, 1, 2, 1, 2, 1, 2, 1, 2, 1, 2, 1, 2, 1, 2, 1, 2, 1, 2, 1, 2, 1, 2, 1, 2, 1, 2, 1, 2, 1, 2, 1, 2, 1, 2, 1, 2, 1, 2, 1, 2, 1, 2, 1, 2, 1, 2, 1, 2, 1, 2, 1, 2, 1, 2], \"Freq\": [0.818941056728363, 0.18009907007217407, 0.7728884816169739, 0.25762948393821716, 0.37889668345451355, 0.6820140480995178, 0.612244725227356, 0.3891788125038147, 0.9098733067512512, 0.09679502993822098, 0.7730275392532349, 0.2576758563518524, 0.15317942202091217, 0.7658970952033997, 0.5323119163513184, 0.5323119163513184, 0.389689177274704, 0.6123687028884888, 0.8962560296058655, 0.09777338057756424, 0.9465612173080444, 0.05795272812247276, 0.8548780679702759, 0.15701842308044434, 0.3546801805496216, 0.7093603610992432, 0.13371515274047852, 0.8022908568382263, 0.35537123680114746, 0.7107424736022949, 0.7041783928871155, 0.29838067293167114, 0.2378789186477661, 0.8325762152671814, 0.7612791061401367, 0.23883265256881714, 0.9302065372467041, 0.07064859569072723, 0.35654354095458984, 0.7130870819091797, 0.8577397465705872, 0.17154794931411743, 0.7565513849258423, 0.2428928166627884, 0.8833154439926147, 0.12848225235939026, 0.5324938893318176, 0.5324938893318176, 0.30341506004333496, 0.6573992371559143, 0.7254340648651123, 0.27264636754989624, 0.2660229802131653, 0.7980689406394958, 0.3555068075656891, 0.7110136151313782, 0.4217471182346344, 0.5623294711112976, 0.268135666847229, 0.804407000541687, 0.5326040983200073, 0.5326040983200073, 0.28632083535194397, 0.6953505873680115, 0.7720109224319458, 0.25733697414398193, 0.7729591727256775, 0.25765305757522583, 0.4907378554344177, 0.5082642436027527, 0.30344077944755554, 0.6827417612075806, 0.9277913570404053, 0.07731594145298004, 0.9245971441268921, 0.08039975166320801, 0.857358992099762, 0.17147178947925568, 0.2677309215068817, 0.8031927943229675, 0.21352162957191467, 0.7829126715660095, 0.8100958466529846, 0.1897735595703125, 0.8934667110443115, 0.095049649477005, 0.17766427993774414, 0.7106571197509766, 0.35658594965934753, 0.7131718993186951, 0.35647502541542053, 0.7129500508308411, 0.9238858819007874, 0.06025342643260956, 0.8628072738647461, 0.13600902259349823, 0.7568677067756653, 0.23169419169425964, 0.43957704305648804, 0.5626586079597473, 0.8685756325721741, 0.132945254445076, 0.7034343481063843, 0.2979251444339752, 0.35624366998672485, 0.7124873399734497, 0.2682240605354309, 0.8046721816062927, 0.5320857763290405, 0.5320857763290405, 0.7484421133995056, 0.2494806945323944, 0.8306140303611755, 0.1697605401277542, 0.7483654618263245, 0.25235578417778015, 0.9267460107803345, 0.06503480672836304, 0.2660294473171234, 0.7980883121490479, 0.2677430212497711, 0.803229033946991, 0.8827683925628662, 0.14712806046009064, 0.1783556342124939, 0.8026003837585449, 0.8313729166984558, 0.16833053529262543, 0.3557572066783905, 0.711514413356781, 0.6462944746017456, 0.3533437252044678, 0.35486191511154175, 0.7097238302230835, 0.7727497816085815, 0.25758326053619385, 0.7579094767570496, 0.2426234632730484, 0.7066822648048401, 0.29324910044670105, 0.35484039783477783, 0.7096807956695557, 0.8808766603469849, 0.1468127816915512, 0.5326401591300964, 0.5326401591300964, 0.7265754342079163, 0.2732420563697815, 0.8178942799568176, 0.1814577877521515, 0.5323917269706726, 0.5323917269706726, 0.26593467593193054, 0.7091591358184814, 0.7725253701210022, 0.25750845670700073, 0.3549198806285858, 0.7098397612571716, 0.4220849871635437, 0.580366849899292, 0.3564770221710205, 0.712954044342041, 0.35451939702033997, 0.7090387940406799, 0.8739888668060303, 0.12642605602741241, 0.7723111510276794, 0.2574370503425598, 0.17782877385616302, 0.7113150954246521, 0.8433083891868591, 0.15406595170497894, 0.39230477809906006, 0.5969855189323425, 0.639115035533905, 0.3700139820575714, 0.8660098910331726, 0.13531404733657837, 0.9540171027183533, 0.045976728200912476, 0.35340777039527893, 0.6361339688301086, 0.35363784432411194, 0.6365481019020081], \"Term\": [\"ability\", \"ability\", \"add\", \"add\", \"admission\", \"admission\", \"alter\", \"alter\", \"alteration\", \"alteration\", \"arousable\", \"arousable\", \"awake\", \"awake\", \"behavioral\", \"behavioral\", \"button\", \"button\", \"carry\", \"carry\", \"comfort\", \"comfort\", \"comfortable\", \"comfortable\", \"complain\", \"complain\", \"consistently\", \"consistently\", \"contin\", \"contin\", \"continue\", \"continue\", \"continuous\", \"continuous\", \"control\", \"control\", \"cope\", \"cope\", \"cry\", \"cry\", \"date\", \"date\", \"decrease\", \"decrease\", \"deficit\", \"deficit\", \"deliveries\", \"deliveries\", \"demand\", \"demand\", \"develop\", \"develop\", \"difficulty\", \"difficulty\", \"dilaudid\", \"dilaudid\", \"discharge\", \"discharge\", \"discuss\", \"discuss\", \"doritos\", \"doritos\", \"dose\", \"dose\", \"drowsy\", \"drowsy\", \"easily\", \"easily\", \"emar\", \"emar\", \"encourage\", \"encourage\", \"expressions\", \"expressions\", \"factor\", \"factor\", \"fall\", \"fall\", \"follow\", \"follow\", \"give\", \"give\", \"goal\", \"goal\", \"have\", \"have\", \"home\", \"home\", \"hour\", \"hour\", \"hours\", \"hours\", \"identify\", \"identify\", \"improve\", \"improve\", \"increase\", \"increase\", \"intervention\", \"intervention\", \"knowledge\", \"knowledge\", \"level\", \"level\", \"limit\", \"limit\", \"lockout\", \"lockout\", \"longer\", \"longer\", \"manage\", \"manage\", \"management\", \"management\", \"medication\", \"medication\", \"methods\", \"methods\", \"monitor\", \"monitor\", \"morphine\", \"morphine\", \"night\", \"night\", \"note\", \"note\", \"outcome\", \"outcome\", \"overnight\", \"overnight\", \"pain\", \"pain\", \"parent\", \"parent\", \"patch\", \"patch\", \"patient\", \"patient\", \"plan\", \"plan\", \"play\", \"play\", \"potential\", \"potential\", \"presently\", \"presently\", \"problem\", \"problem\", \"progress\", \"progress\", \"ptis\", \"ptis\", \"push\", \"push\", \"quiet\", \"quiet\", \"range\", \"range\", \"rat\", \"rat\", \"reach\", \"reach\", \"receive\", \"receive\", \"regimen\", \"regimen\", \"reinforce\", \"reinforce\", \"room\", \"room\", \"satisfaction\", \"satisfaction\", \"satisfy\", \"satisfy\", \"shift\", \"shift\", \"state\", \"state\", \"support\", \"support\", \"time\", \"time\", \"toradol\", \"toradol\"]}, \"R\": 30, \"lambda.step\": 0.01, \"plot.opts\": {\"xlab\": \"PC1\", \"ylab\": \"PC2\"}, \"topic.order\": [1, 2]};\n",
       "\n",
       "function LDAvis_load_lib(url, callback){\n",
       "  var s = document.createElement('script');\n",
       "  s.src = url;\n",
       "  s.async = true;\n",
       "  s.onreadystatechange = s.onload = callback;\n",
       "  s.onerror = function(){console.warn(\"failed to load library \" + url);};\n",
       "  document.getElementsByTagName(\"head\")[0].appendChild(s);\n",
       "}\n",
       "\n",
       "if(typeof(LDAvis) !== \"undefined\"){\n",
       "   // already loaded: just create the visualization\n",
       "   !function(LDAvis){\n",
       "       new LDAvis(\"#\" + \"ldavis_el301461396389993410007079642976\", ldavis_el301461396389993410007079642976_data);\n",
       "   }(LDAvis);\n",
       "}else if(typeof define === \"function\" && define.amd){\n",
       "   // require.js is available: use it to load d3/LDAvis\n",
       "   require.config({paths: {d3: \"https://cdnjs.cloudflare.com/ajax/libs/d3/3.5.5/d3.min\"}});\n",
       "   require([\"d3\"], function(d3){\n",
       "      window.d3 = d3;\n",
       "      LDAvis_load_lib(\"https://cdn.rawgit.com/bmabey/pyLDAvis/files/ldavis.v1.0.0.js\", function(){\n",
       "        new LDAvis(\"#\" + \"ldavis_el301461396389993410007079642976\", ldavis_el301461396389993410007079642976_data);\n",
       "      });\n",
       "    });\n",
       "}else{\n",
       "    // require.js not available: dynamically load d3 & LDAvis\n",
       "    LDAvis_load_lib(\"https://cdnjs.cloudflare.com/ajax/libs/d3/3.5.5/d3.min.js\", function(){\n",
       "         LDAvis_load_lib(\"https://cdn.rawgit.com/bmabey/pyLDAvis/files/ldavis.v1.0.0.js\", function(){\n",
       "                 new LDAvis(\"#\" + \"ldavis_el301461396389993410007079642976\", ldavis_el301461396389993410007079642976_data);\n",
       "            })\n",
       "         });\n",
       "}\n",
       "</script>"
      ],
      "text/plain": [
       "PreparedData(topic_coordinates=              x    y  topics  cluster       Freq\n",
       "topic                                           \n",
       "0      0.031076  0.0       1        1  74.198761\n",
       "1     -0.031076  0.0       2        1  25.801241, topic_info=    Category         Freq          Term        Total  loglift  logprob\n",
       "22   Default  1109.000000          pain  1109.000000  30.0000  30.0000\n",
       "103  Default   210.000000         alter   210.000000  29.0000  29.0000\n",
       "119  Default   322.000000       problem   322.000000  28.0000  28.0000\n",
       "23   Default   432.000000       patient   432.000000  27.0000  27.0000\n",
       "114  Default   241.000000         level   241.000000  26.0000  26.0000\n",
       "..       ...          ...           ...          ...      ...      ...\n",
       "36    Topic2    22.801641       regimen   181.924515  -0.7220  -4.7147\n",
       "121   Topic2    19.259874  satisfaction   123.323807  -0.5020  -4.8835\n",
       "73    Topic2    15.437783      increase    64.740509  -0.0788  -5.1047\n",
       "113   Topic2    14.520222     knowledge   112.828400  -0.6956  -5.1660\n",
       "71    Topic2    10.871707         shift    29.728607   0.3488  -5.4553\n",
       "\n",
       "[144 rows x 6 columns], token_table=      Topic      Freq       Term\n",
       "term                            \n",
       "102       1  0.818941    ability\n",
       "102       2  0.180099    ability\n",
       "281       1  0.772888        add\n",
       "281       2  0.257629        add\n",
       "3         1  0.378897  admission\n",
       "...     ...       ...        ...\n",
       "196       2  0.045977    support\n",
       "64        1  0.353408       time\n",
       "64        2  0.636134       time\n",
       "65        1  0.353638    toradol\n",
       "65        2  0.636548    toradol\n",
       "\n",
       "[184 rows x 3 columns], R=30, lambda_step=0.01, plot_opts={'xlab': 'PC1', 'ylab': 'PC2'}, topic_order=[1, 2])"
      ]
     },
     "execution_count": 110,
     "metadata": {},
     "output_type": "execute_result"
    }
   ],
   "source": [
    "pyLDAvis.enable_notebook()\n",
    "data = pyLDAvis.gensim.prepare(optimal_model, corpus, dictionary)\n",
    "data"
   ]
  },
  {
   "cell_type": "markdown",
   "metadata": {},
   "source": [
    "# pain relevant topic distribution using the optimal model"
   ]
  },
  {
   "cell_type": "code",
   "execution_count": 135,
   "metadata": {},
   "outputs": [
    {
     "name": "stdout",
     "output_type": "stream",
     "text": [
      "('Score: 0.7665781378746033\\t Topic: 0.116*\"pain\" + 0.100*\"goal\" + '\n",
      " '0.081*\"progress\" + 0.075*\"outcome\" + 0.067*\"ability\" + 0.051*\"improve\" + '\n",
      " '0.036*\"problem\" + 0.030*\"patient\" + 0.027*\"level\" + 0.026*\"manage\"')\n",
      "('Score: 0.23342186212539673\\t Topic: 0.108*\"pain\" + 0.085*\"outcome\" + '\n",
      " '0.071*\"patient\" + 0.065*\"progress\" + 0.057*\"goal\" + 0.044*\"ability\" + '\n",
      " '0.041*\"improve\" + 0.028*\"decrease\" + 0.026*\"problem\" + 0.019*\"level\"')\n"
     ]
    }
   ],
   "source": [
    "pain_relevant_document = df[df['relevance'] == 'yes']['text']\n",
    "relevant = list()\n",
    "for i in pain_relevant_document.values.tolist():\n",
    "    relevant.append(str(i))\n",
    "\n",
    "relevant = ' '.join(relevant)\n",
    "\n",
    "bow_vector = dictionary.doc2bow(preprocess(relevant))\n",
    "\n",
    "for index, score in sorted(optimal_model[bow_vector], key=lambda tup: -1*tup[1]):\n",
    "    pprint(\"Score: {}\\t Topic: {}\".format(score, optimal_model.print_topic(index, 10)))"
   ]
  },
  {
   "cell_type": "markdown",
   "metadata": {},
   "source": [
    "# pain irrelevant topic distribution using the optimal model"
   ]
  },
  {
   "cell_type": "code",
   "execution_count": 137,
   "metadata": {},
   "outputs": [
    {
     "name": "stdout",
     "output_type": "stream",
     "text": [
      "('Score: 0.9913361072540283\\t Topic: 0.108*\"pain\" + 0.085*\"outcome\" + '\n",
      " '0.071*\"patient\" + 0.065*\"progress\" + 0.057*\"goal\" + 0.044*\"ability\" + '\n",
      " '0.041*\"improve\" + 0.028*\"decrease\" + 0.026*\"problem\" + 0.019*\"level\"')\n"
     ]
    }
   ],
   "source": [
    "pain_irrelevant_document = df[df['relevance'] == 'no']['text']\n",
    "irrelevant = list()\n",
    "for i in pain_irrelevant_document.values.tolist():\n",
    "    irrelevant.append(str(i))\n",
    "\n",
    "irrelevant = ' '.join(irrelevant)\n",
    "\n",
    "bow_vector = dictionary.doc2bow(preprocess(irrelevant))\n",
    "\n",
    "for index, score in sorted(optimal_model[bow_vector], key=lambda tup: -1*tup[1]):\n",
    "    pprint(\"Score: {}\\t Topic: {}\".format(score, optimal_model.print_topic(index, 10)))"
   ]
  },
  {
   "cell_type": "markdown",
   "metadata": {},
   "source": [
    "# pain increase topic distribution using the optimal model"
   ]
  },
  {
   "cell_type": "code",
   "execution_count": 139,
   "metadata": {},
   "outputs": [
    {
     "name": "stdout",
     "output_type": "stream",
     "text": [
      "('Score: 0.7674806714057922\\t Topic: 0.108*\"pain\" + 0.085*\"outcome\" + '\n",
      " '0.071*\"patient\" + 0.065*\"progress\" + 0.057*\"goal\" + 0.044*\"ability\" + '\n",
      " '0.041*\"improve\" + 0.028*\"decrease\" + 0.026*\"problem\" + 0.019*\"level\"')\n",
      "('Score: 0.23251929879188538\\t Topic: 0.116*\"pain\" + 0.100*\"goal\" + '\n",
      " '0.081*\"progress\" + 0.075*\"outcome\" + 0.067*\"ability\" + 0.051*\"improve\" + '\n",
      " '0.036*\"problem\" + 0.030*\"patient\" + 0.027*\"level\" + 0.026*\"manage\"')\n"
     ]
    }
   ],
   "source": [
    "pain_change = df[df['change'] == 'increase']['text']\n",
    "change = list()\n",
    "for i in pain_change.values.tolist():\n",
    "    change.append(str(i))\n",
    "\n",
    "change = ' '.join(change)\n",
    "\n",
    "bow_vector = dictionary.doc2bow(preprocess(change))\n",
    "\n",
    "for index, score in sorted(optimal_model[bow_vector], key=lambda tup: -1*tup[1]):\n",
    "    pprint(\"Score: {}\\t Topic: {}\".format(score, optimal_model.print_topic(index, 10)))"
   ]
  },
  {
   "cell_type": "markdown",
   "metadata": {},
   "source": [
    "# pain decrease topic distribution using the optimal model"
   ]
  },
  {
   "cell_type": "code",
   "execution_count": 140,
   "metadata": {},
   "outputs": [
    {
     "name": "stdout",
     "output_type": "stream",
     "text": [
      "('Score: 0.9603386521339417\\t Topic: 0.116*\"pain\" + 0.100*\"goal\" + '\n",
      " '0.081*\"progress\" + 0.075*\"outcome\" + 0.067*\"ability\" + 0.051*\"improve\" + '\n",
      " '0.036*\"problem\" + 0.030*\"patient\" + 0.027*\"level\" + 0.026*\"manage\"')\n",
      "('Score: 0.039661359041929245\\t Topic: 0.108*\"pain\" + 0.085*\"outcome\" + '\n",
      " '0.071*\"patient\" + 0.065*\"progress\" + 0.057*\"goal\" + 0.044*\"ability\" + '\n",
      " '0.041*\"improve\" + 0.028*\"decrease\" + 0.026*\"problem\" + 0.019*\"level\"')\n"
     ]
    }
   ],
   "source": [
    "pain_change = df[df['change'] == 'decrease']['text']\n",
    "change = list()\n",
    "for i in pain_change.values.tolist():\n",
    "    change.append(str(i))\n",
    "\n",
    "change = ' '.join(change)\n",
    "\n",
    "bow_vector = dictionary.doc2bow(preprocess(change))\n",
    "\n",
    "for index, score in sorted(optimal_model[bow_vector], key=lambda tup: -1*tup[1]):\n",
    "    pprint(\"Score: {}\\t Topic: {}\".format(score, optimal_model.print_topic(index, 10)))"
   ]
  },
  {
   "cell_type": "markdown",
   "metadata": {},
   "source": [
    "# pain uncertain topic distribution using the optimal model"
   ]
  },
  {
   "cell_type": "code",
   "execution_count": 142,
   "metadata": {},
   "outputs": [
    {
     "name": "stdout",
     "output_type": "stream",
     "text": [
      "('Score: 0.9062216877937317\\t Topic: 0.116*\"pain\" + 0.100*\"goal\" + '\n",
      " '0.081*\"progress\" + 0.075*\"outcome\" + 0.067*\"ability\" + 0.051*\"improve\" + '\n",
      " '0.036*\"problem\" + 0.030*\"patient\" + 0.027*\"level\" + 0.026*\"manage\"')\n",
      "('Score: 0.09377828985452652\\t Topic: 0.108*\"pain\" + 0.085*\"outcome\" + '\n",
      " '0.071*\"patient\" + 0.065*\"progress\" + 0.057*\"goal\" + 0.044*\"ability\" + '\n",
      " '0.041*\"improve\" + 0.028*\"decrease\" + 0.026*\"problem\" + 0.019*\"level\"')\n"
     ]
    }
   ],
   "source": [
    "pain_change = df[df['change'] == 'not sure']['text']\n",
    "change = list()\n",
    "for i in pain_change.values.tolist():\n",
    "    change.append(str(i))\n",
    "\n",
    "change = ' '.join(change)\n",
    "\n",
    "bow_vector = dictionary.doc2bow(preprocess(change))\n",
    "\n",
    "for index, score in sorted(optimal_model[bow_vector], key=lambda tup: -1*tup[1]):\n",
    "    pprint(\"Score: {}\\t Topic: {}\".format(score, optimal_model.print_topic(index, 10)))"
   ]
  },
  {
   "cell_type": "markdown",
   "metadata": {},
   "source": [
    "# pain unchanged topic distribution using the optimal model"
   ]
  },
  {
   "cell_type": "code",
   "execution_count": 147,
   "metadata": {},
   "outputs": [
    {
     "name": "stdout",
     "output_type": "stream",
     "text": [
      "('Score: 0.7519437074661255\\t Topic: 0.116*\"pain\" + 0.100*\"goal\" + '\n",
      " '0.081*\"progress\" + 0.075*\"outcome\" + 0.067*\"ability\" + 0.051*\"improve\" + '\n",
      " '0.036*\"problem\" + 0.030*\"patient\" + 0.027*\"level\" + 0.026*\"manage\"')\n",
      "('Score: 0.24805638194084167\\t Topic: 0.108*\"pain\" + 0.085*\"outcome\" + '\n",
      " '0.071*\"patient\" + 0.065*\"progress\" + 0.057*\"goal\" + 0.044*\"ability\" + '\n",
      " '0.041*\"improve\" + 0.028*\"decrease\" + 0.026*\"problem\" + 0.019*\"level\"')\n"
     ]
    }
   ],
   "source": [
    "pain_change = df[df['change'] != 'no change']['text']\n",
    "change = list()\n",
    "for i in pain_change.values.tolist():\n",
    "    change.append(str(i))\n",
    "\n",
    "change = ' '.join(change)\n",
    "\n",
    "bow_vector = dictionary.doc2bow(preprocess(change))\n",
    "\n",
    "for index, score in sorted(optimal_model[bow_vector], key=lambda tup: -1*tup[1]):\n",
    "    pprint(\"Score: {}\\t Topic: {}\".format(score, optimal_model.print_topic(index, 10)))"
   ]
  },
  {
   "cell_type": "code",
   "execution_count": null,
   "metadata": {},
   "outputs": [],
   "source": []
  }
 ],
 "metadata": {
  "kernelspec": {
   "display_name": "Python 3",
   "language": "python",
   "name": "python3"
  },
  "language_info": {
   "codemirror_mode": {
    "name": "ipython",
    "version": 3
   },
   "file_extension": ".py",
   "mimetype": "text/x-python",
   "name": "python",
   "nbconvert_exporter": "python",
   "pygments_lexer": "ipython3",
   "version": "3.6.9"
  }
 },
 "nbformat": 4,
 "nbformat_minor": 2
}
